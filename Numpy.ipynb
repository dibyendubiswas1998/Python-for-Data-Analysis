{
 "cells": [
  {
   "cell_type": "code",
   "execution_count": 1,
   "id": "da9f56e1-2931-4343-8605-447a1557e41b",
   "metadata": {},
   "outputs": [],
   "source": [
    "import numpy as np"
   ]
  },
  {
   "cell_type": "code",
   "execution_count": 5,
   "id": "8b37c7e6-8cfa-414c-82c3-43d20138af11",
   "metadata": {},
   "outputs": [
    {
     "data": {
      "text/plain": [
       "array([1, 2, 3, 4, 5])"
      ]
     },
     "execution_count": 5,
     "metadata": {},
     "output_type": "execute_result"
    }
   ],
   "source": [
    "# Creating Array:\n",
    "\n",
    "arr1 = np.array([1,2,3,4,5])\n",
    "arr1"
   ]
  },
  {
   "cell_type": "code",
   "execution_count": 6,
   "id": "c1c3c08f-5bc5-4f16-989e-bdc958af09f4",
   "metadata": {},
   "outputs": [
    {
     "data": {
      "text/plain": [
       "array(['1', '2', '3', '4', '5', 'akg'], dtype='<U11')"
      ]
     },
     "execution_count": 6,
     "metadata": {},
     "output_type": "execute_result"
    }
   ],
   "source": [
    "arr2 = np.array([1,2,3,4,5, 'akg'])\n",
    "arr2"
   ]
  },
  {
   "cell_type": "code",
   "execution_count": 7,
   "id": "b8b99650-9de7-4c61-9992-34938a18074d",
   "metadata": {},
   "outputs": [
    {
     "name": "stdout",
     "output_type": "stream",
     "text": [
      "<class 'numpy.ndarray'> <class 'numpy.ndarray'>\n"
     ]
    }
   ],
   "source": [
    "print(type(arr1), type(arr2))"
   ]
  },
  {
   "cell_type": "code",
   "execution_count": 8,
   "id": "7be949ee-7d8b-42d5-ab93-5d66c069c48a",
   "metadata": {},
   "outputs": [
    {
     "data": {
      "text/plain": [
       "array([[1, 2, 3],\n",
       "       [4, 5, 6],\n",
       "       [7, 8, 9]])"
      ]
     },
     "execution_count": 8,
     "metadata": {},
     "output_type": "execute_result"
    }
   ],
   "source": [
    "# Creating 2D array:\n",
    "\n",
    "arr = np.array([\n",
    "    [1,2,3],\n",
    "    [4,5,6],\n",
    "    [7,8,9]\n",
    "])\n",
    "arr"
   ]
  },
  {
   "cell_type": "code",
   "execution_count": 10,
   "id": "484e8c01-285a-487d-9877-dcbaf8a4ea04",
   "metadata": {},
   "outputs": [
    {
     "name": "stdout",
     "output_type": "stream",
     "text": [
      "Shape:  (3, 3)\n",
      "Dimention:  2\n",
      "Size: 9\n",
      "Data type: int32\n"
     ]
    }
   ],
   "source": [
    "print(\"Shape: \", arr.shape)\n",
    "print(\"Dimention: \", arr.ndim)\n",
    "print(\"Size:\", arr.size)\n",
    "print(\"Data type:\", arr.dtype)"
   ]
  },
  {
   "cell_type": "code",
   "execution_count": 11,
   "id": "e251be40-c8ba-4272-a3aa-4ad62f156228",
   "metadata": {},
   "outputs": [
    {
     "name": "stdout",
     "output_type": "stream",
     "text": [
      "[[[[[1 2 3 4 5 6 7 8 9]]]]]\n",
      "\n",
      "Shape:  (1, 1, 1, 1, 9)\n",
      "Dimention:  5\n",
      "Size: 9\n",
      "Data type: int32\n"
     ]
    }
   ],
   "source": [
    "# Creating nD array:\n",
    "\n",
    "arr = np.array([1,2,3,4,5,6,7,8,9], ndmin=5)\n",
    "\n",
    "print(arr)\n",
    "print()\n",
    "print(\"Shape: \", arr.shape)\n",
    "print(\"Dimention: \", arr.ndim)\n",
    "print(\"Size:\", arr.size)\n",
    "print(\"Data type:\", arr.dtype)"
   ]
  },
  {
   "cell_type": "code",
   "execution_count": 12,
   "id": "4b8a2823-d101-47be-8621-3ec35e7f835f",
   "metadata": {},
   "outputs": [
    {
     "data": {
      "text/plain": [
       "array([[ 1,  2,  3,  4],\n",
       "       [ 5,  6,  7,  8],\n",
       "       [ 9, 10, 11, 12]])"
      ]
     },
     "execution_count": 12,
     "metadata": {},
     "output_type": "execute_result"
    }
   ],
   "source": [
    "# Creating & rehaping array:\n",
    "\n",
    "arr = np.arange(1,13).reshape(3,4)\n",
    "arr"
   ]
  },
  {
   "cell_type": "code",
   "execution_count": 13,
   "id": "8d906db8-1094-43cc-8897-3324c480a5b6",
   "metadata": {},
   "outputs": [
    {
     "data": {
      "text/plain": [
       "[1, 2, 3, 4, 5, 6, 7, 8, 9, 10, 11, 12]"
      ]
     },
     "execution_count": 13,
     "metadata": {},
     "output_type": "execute_result"
    }
   ],
   "source": [
    "# array iteration:\n",
    "\n",
    "arr = np.arange(1,13).reshape(3,4)\n",
    "lst = [j for i in arr for j in i]\n",
    "lst"
   ]
  },
  {
   "cell_type": "code",
   "execution_count": 15,
   "id": "d41a11eb-cc07-4f78-beb0-25dd4f23b4fd",
   "metadata": {},
   "outputs": [
    {
     "data": {
      "text/plain": [
       "[array([[1, 2, 3, 4]]), array([[5, 6, 7, 8]]), array([[ 9, 10, 11, 12]])]"
      ]
     },
     "execution_count": 15,
     "metadata": {},
     "output_type": "execute_result"
    }
   ],
   "source": [
    "# Array Splitting:\n",
    "\n",
    "arr = np.arange(1,13).reshape(3,4)\n",
    "np.array_split(arr, 3)"
   ]
  },
  {
   "cell_type": "code",
   "execution_count": 16,
   "id": "adf13223-23a0-4de9-8684-cbfffd2bcab0",
   "metadata": {},
   "outputs": [
    {
     "data": {
      "text/plain": [
       "array([[ 1,  2,  3,  4,  5,  6],\n",
       "       [ 7,  8,  9, 10, 11, 12],\n",
       "       [13, 14, 15, 16, 17, 18],\n",
       "       [19, 20, 21, 22, 23, 24]])"
      ]
     },
     "execution_count": 16,
     "metadata": {},
     "output_type": "execute_result"
    }
   ],
   "source": [
    "# Search an Element in an array:\n",
    "\n",
    "arr = np.arange(1,25).reshape(4,6)\n",
    "arr"
   ]
  },
  {
   "cell_type": "code",
   "execution_count": 23,
   "id": "0a845195-1f74-46af-a039-04edf1d004c1",
   "metadata": {},
   "outputs": [
    {
     "data": {
      "text/plain": [
       "(array([2], dtype=int64), array([3], dtype=int64))"
      ]
     },
     "execution_count": 23,
     "metadata": {},
     "output_type": "execute_result"
    }
   ],
   "source": [
    "index_position = np.where(arr == 16)\n",
    "index_position"
   ]
  },
  {
   "cell_type": "code",
   "execution_count": 24,
   "id": "46de8b53-3ff6-49a8-b0ff-cbe4d1e80602",
   "metadata": {},
   "outputs": [
    {
     "data": {
      "text/plain": [
       "array([11,  1, 22,  3,  9, 13,  8,  4,  5,  6,  7, 10])"
      ]
     },
     "execution_count": 24,
     "metadata": {},
     "output_type": "execute_result"
    }
   ],
   "source": [
    "# Sort the array:\n",
    "\n",
    "arr = np.array([11,1,22,3,9,13,8,4,5,6,7,10])\n",
    "arr"
   ]
  },
  {
   "cell_type": "code",
   "execution_count": 26,
   "id": "41ebbf64-3c34-4b52-afe2-a627b4279489",
   "metadata": {},
   "outputs": [
    {
     "data": {
      "text/plain": [
       "[1, 3, 4, 5, 6, 7, 8, 9, 10, 11, 13, 22]"
      ]
     },
     "execution_count": 26,
     "metadata": {},
     "output_type": "execute_result"
    }
   ],
   "source": [
    "sorted(arr)"
   ]
  },
  {
   "cell_type": "code",
   "execution_count": 30,
   "id": "69ba880b-e0a4-4ad1-af78-f8475aa6f1aa",
   "metadata": {},
   "outputs": [
    {
     "data": {
      "text/plain": [
       "array([ 1,  2,  5,  8,  9, 10, 12,  3,  4, 11,  7])"
      ]
     },
     "execution_count": 30,
     "metadata": {},
     "output_type": "execute_result"
    }
   ],
   "source": [
    "# Filtering:\n",
    "\n",
    "# remove duplicates from array:\n",
    "arr = np.array([1,2,5,8,1,9,10,12,2,3,4,5,11,2,4,7,9,10,12])\n",
    "new_ = []\n",
    "\n",
    "for i in arr:\n",
    "    if i not in new_:\n",
    "        new_.append(i)\n",
    "        \n",
    "np.array(new_)"
   ]
  },
  {
   "cell_type": "code",
   "execution_count": 32,
   "id": "ef2f7a69-2cdb-42cb-8260-fa5b1c8c9f97",
   "metadata": {},
   "outputs": [
    {
     "data": {
      "text/plain": [
       "array([[ 1,  2,  3,  4,  5,  6],\n",
       "       [ 7,  8,  9, 10, 11, 12],\n",
       "       [13, 14, 15, 16, 17, 18],\n",
       "       [19, 20, 21, 22, 23, 24]])"
      ]
     },
     "execution_count": 32,
     "metadata": {},
     "output_type": "execute_result"
    }
   ],
   "source": [
    "# Slicing Array:\n",
    "\n",
    "arr = np.arange(1,25).reshape(4,6)\n",
    "arr"
   ]
  },
  {
   "cell_type": "code",
   "execution_count": 33,
   "id": "d0bc0bf3-ad8a-4857-ac52-3d0ad78a4a55",
   "metadata": {},
   "outputs": [
    {
     "data": {
      "text/plain": [
       "array([[ 9, 10, 11],\n",
       "       [15, 16, 17]])"
      ]
     },
     "execution_count": 33,
     "metadata": {},
     "output_type": "execute_result"
    }
   ],
   "source": [
    "arr[1:3, 2:5]"
   ]
  },
  {
   "cell_type": "code",
   "execution_count": 35,
   "id": "e68c6553-093d-460a-a309-b19c6411c645",
   "metadata": {},
   "outputs": [
    {
     "data": {
      "text/plain": [
       "array([ 1,  2,  3,  4,  5,  6, 10, 11, 12, 13, 21, 22, 23, 24, 25])"
      ]
     },
     "execution_count": 35,
     "metadata": {},
     "output_type": "execute_result"
    }
   ],
   "source": [
    "# 1D Array Concatination:\n",
    "\n",
    "ar1 = np.array([1,2,3,4,5,6])\n",
    "ar2 = np.array([10,11,12,13])\n",
    "ar3 = np.array([21,22,23,24,25])\n",
    "\n",
    "\n",
    "np.concatenate((ar1, ar2, ar3))"
   ]
  },
  {
   "cell_type": "code",
   "execution_count": 36,
   "id": "087ad763-0c33-45dc-ab03-5e50f7483e79",
   "metadata": {},
   "outputs": [
    {
     "data": {
      "text/plain": [
       "array([[ 1,  2,  3],\n",
       "       [ 4,  5,  6],\n",
       "       [10, 11, 12],\n",
       "       [20, 21, 22]])"
      ]
     },
     "execution_count": 36,
     "metadata": {},
     "output_type": "execute_result"
    }
   ],
   "source": [
    "# 2D Array Concatination:\n",
    "\n",
    "ar1 = np.array([\n",
    "    [1,2,3],\n",
    "    [4,5,6]\n",
    "])\n",
    "\n",
    "ar2 = np.array([\n",
    "    [10,11,12],\n",
    "    [20,21,22]\n",
    "])\n",
    "\n",
    "np.concatenate((ar1, ar2), axis=0)"
   ]
  },
  {
   "cell_type": "code",
   "execution_count": 37,
   "id": "53394587-6440-4dc2-94d6-5d7d4a946522",
   "metadata": {},
   "outputs": [
    {
     "data": {
      "text/plain": [
       "array([[ 1,  2,  3, 10, 11, 12],\n",
       "       [ 4,  5,  6, 20, 21, 22]])"
      ]
     },
     "execution_count": 37,
     "metadata": {},
     "output_type": "execute_result"
    }
   ],
   "source": [
    "np.concatenate((ar1, ar2), axis=1)"
   ]
  },
  {
   "cell_type": "code",
   "execution_count": 38,
   "id": "b29daaf2-aa3d-4713-ae43-8c6eb830f556",
   "metadata": {},
   "outputs": [
    {
     "data": {
      "text/plain": [
       "array([[[ 1,  2,  3],\n",
       "        [ 4,  5,  6]],\n",
       "\n",
       "       [[10, 11, 12],\n",
       "        [20, 21, 22]]])"
      ]
     },
     "execution_count": 38,
     "metadata": {},
     "output_type": "execute_result"
    }
   ],
   "source": [
    "np.stack((ar1, ar2), axis=0)"
   ]
  },
  {
   "cell_type": "code",
   "execution_count": 39,
   "id": "8ddc8349-f747-4f3e-ba07-948c2e91ddab",
   "metadata": {},
   "outputs": [
    {
     "data": {
      "text/plain": [
       "array([[[ 1,  2,  3],\n",
       "        [10, 11, 12]],\n",
       "\n",
       "       [[ 4,  5,  6],\n",
       "        [20, 21, 22]]])"
      ]
     },
     "execution_count": 39,
     "metadata": {},
     "output_type": "execute_result"
    }
   ],
   "source": [
    "np.stack((ar1, ar2), axis=1)"
   ]
  },
  {
   "cell_type": "code",
   "execution_count": 40,
   "id": "b42abb23-ffa3-41ba-b934-91e79de996f1",
   "metadata": {},
   "outputs": [
    {
     "data": {
      "text/plain": [
       "array([[ 1,  2,  3,  4],\n",
       "       [ 5,  6,  7,  8],\n",
       "       [ 9, 10, 11, 12]])"
      ]
     },
     "execution_count": 40,
     "metadata": {},
     "output_type": "execute_result"
    }
   ],
   "source": [
    "# Shallow Copy:\n",
    "\n",
    "arr = np.arange(1,13).reshape(3,4)\n",
    "arr"
   ]
  },
  {
   "cell_type": "code",
   "execution_count": 42,
   "id": "ee0cf8bf-b933-416a-b43e-59a3a87b36dc",
   "metadata": {},
   "outputs": [
    {
     "name": "stdout",
     "output_type": "stream",
     "text": [
      "old array: \n",
      " [[  1   2   3   4]\n",
      " [  5   6 700   8]\n",
      " [  9  10  11  12]]\n",
      "\n",
      "new array: \n",
      " [[  1   2   3   4]\n",
      " [  5   6 700   8]\n",
      " [  9  10  11  12]]\n"
     ]
    }
   ],
   "source": [
    "arr1 = arr\n",
    "arr1[1][2] = 700\n",
    "\n",
    "print(\"old array: \\n\", arr)\n",
    "print()\n",
    "print(\"new array: \\n\", arr1)"
   ]
  },
  {
   "cell_type": "code",
   "execution_count": 43,
   "id": "30a7eebd-3696-4a29-aeb5-4902b97a5288",
   "metadata": {},
   "outputs": [
    {
     "data": {
      "text/plain": [
       "array([[ 1,  2,  3,  4],\n",
       "       [ 5,  6,  7,  8],\n",
       "       [ 9, 10, 11, 12]])"
      ]
     },
     "execution_count": 43,
     "metadata": {},
     "output_type": "execute_result"
    }
   ],
   "source": [
    "# Deep Copy:\n",
    "\n",
    "arr = np.arange(1,13).reshape(3,4)\n",
    "arr"
   ]
  },
  {
   "cell_type": "code",
   "execution_count": 44,
   "id": "f5a797f1-3436-4c9d-b04b-a54ddef8ba46",
   "metadata": {},
   "outputs": [
    {
     "name": "stdout",
     "output_type": "stream",
     "text": [
      "old array: \n",
      " [[ 1  2  3  4]\n",
      " [ 5  6  7  8]\n",
      " [ 9 10 11 12]]\n",
      "\n",
      "new array: \n",
      " [[  1   2   3   4]\n",
      " [  5   6 700   8]\n",
      " [  9  10  11  12]]\n"
     ]
    }
   ],
   "source": [
    "arr2 = np.array(arr, copy=True)\n",
    "arr2[1][2] =700\n",
    "\n",
    "print(\"old array: \\n\", arr)\n",
    "print()\n",
    "print(\"new array: \\n\", arr2)"
   ]
  },
  {
   "cell_type": "code",
   "execution_count": 48,
   "id": "a0a026fd-0fc7-40ab-8c27-a44303b6d241",
   "metadata": {},
   "outputs": [
    {
     "data": {
      "text/plain": [
       "[0.7530799529968624,\n",
       " 0.02626756145803022,\n",
       " 0.6945633430261684,\n",
       " 0.35322780730815306]"
      ]
     },
     "execution_count": 48,
     "metadata": {},
     "output_type": "execute_result"
    }
   ],
   "source": [
    "# Random:\n",
    "\n",
    "[np.random.rand(), np.random.rand(), np.random.rand(), np.random.rand()] # range 0 to 1"
   ]
  },
  {
   "cell_type": "code",
   "execution_count": 50,
   "id": "732b2144-8edf-46ca-a226-b19e128ef111",
   "metadata": {},
   "outputs": [
    {
     "data": {
      "text/plain": [
       "array([[0.80023622, 0.2766478 , 0.23358186, 0.82448784],\n",
       "       [0.25481836, 0.73816526, 0.40876901, 0.62531081],\n",
       "       [0.46725488, 0.2196243 , 0.72601025, 0.12522305]])"
      ]
     },
     "execution_count": 50,
     "metadata": {},
     "output_type": "execute_result"
    }
   ],
   "source": [
    "np.random.rand(3,4) # range 0 to 1"
   ]
  },
  {
   "cell_type": "code",
   "execution_count": 51,
   "id": "49406243-a5b9-4f0d-a2d4-ebb0f818871f",
   "metadata": {},
   "outputs": [
    {
     "data": {
      "text/plain": [
       "array([[ 0.33961986, -0.22288516, -0.17457066],\n",
       "       [-1.09846051, -0.24395099, -1.32460654]])"
      ]
     },
     "execution_count": 51,
     "metadata": {},
     "output_type": "execute_result"
    }
   ],
   "source": [
    "np.random.randn(2,3) # range 1 to -1"
   ]
  },
  {
   "cell_type": "code",
   "execution_count": 52,
   "id": "226604a5-e22b-4625-8fd3-3359db1702f7",
   "metadata": {},
   "outputs": [
    {
     "data": {
      "text/plain": [
       "array([[2, 3, 4, 4, 1],\n",
       "       [1, 8, 2, 3, 7],\n",
       "       [9, 6, 8, 2, 8]])"
      ]
     },
     "execution_count": 52,
     "metadata": {},
     "output_type": "execute_result"
    }
   ],
   "source": [
    "np.random.randint(low=1, high=10, size=(3,5))"
   ]
  },
  {
   "cell_type": "code",
   "execution_count": 53,
   "id": "9e1cc1d5-4af7-465f-a982-cb4d55d14000",
   "metadata": {},
   "outputs": [
    {
     "data": {
      "text/plain": [
       "array([0.74163043, 0.41865434, 0.78872387, 0.08810826, 0.13482831])"
      ]
     },
     "execution_count": 53,
     "metadata": {},
     "output_type": "execute_result"
    }
   ],
   "source": [
    "np.random.random_sample((5,))"
   ]
  },
  {
   "cell_type": "code",
   "execution_count": 54,
   "id": "68f2a9ee-e7b0-4511-a586-5272fd466596",
   "metadata": {},
   "outputs": [
    {
     "data": {
      "text/plain": [
       "array([[0.53803094, 0.71016988, 0.85965268],\n",
       "       [0.32786992, 0.97219561, 0.0396637 ],\n",
       "       [0.91686283, 0.61125933, 0.32750414],\n",
       "       [0.48687794, 0.81448059, 0.05962089],\n",
       "       [0.6401139 , 0.75047799, 0.03502312]])"
      ]
     },
     "execution_count": 54,
     "metadata": {},
     "output_type": "execute_result"
    }
   ],
   "source": [
    "np.random.random_sample((5,3))"
   ]
  },
  {
   "cell_type": "code",
   "execution_count": 55,
   "id": "c1ca6553-21aa-4a3a-a23f-2592f1a932b4",
   "metadata": {},
   "outputs": [
    {
     "data": {
      "text/plain": [
       "array([[0.97191713, 0.17190779, 0.29462144, 0.72887287, 0.06177733],\n",
       "       [0.359396  , 0.65924543, 0.57189503, 0.3963496 , 0.9224699 ],\n",
       "       [0.49947407, 0.15360513, 0.35676703, 0.02419751, 0.59490653]])"
      ]
     },
     "execution_count": 55,
     "metadata": {},
     "output_type": "execute_result"
    }
   ],
   "source": [
    "np.random.ranf((3,5))"
   ]
  },
  {
   "cell_type": "code",
   "execution_count": 56,
   "id": "776b6c93-a240-42a6-b416-910de6214e97",
   "metadata": {},
   "outputs": [
    {
     "data": {
      "text/plain": [
       "array([[49.72826671, 23.07235638, 27.28296274, 66.70397227],\n",
       "       [35.15708768, 38.73003174, 24.13827239, 22.11464035],\n",
       "       [15.36032503, 78.94506564, 25.68703393, 43.72077005]])"
      ]
     },
     "execution_count": 56,
     "metadata": {},
     "output_type": "execute_result"
    }
   ],
   "source": [
    "np.random.rayleigh(21, size=(3,4))"
   ]
  },
  {
   "cell_type": "code",
   "execution_count": 57,
   "id": "869b9eb0-16d6-45a3-b65a-641c7c787a2b",
   "metadata": {},
   "outputs": [
    {
     "name": "stderr",
     "output_type": "stream",
     "text": [
      "C:\\Users\\Dibyendu\\AppData\\Local\\Temp/ipykernel_12640/1660218705.py:1: DeprecationWarning: This function is deprecated. Please call randint(1, 13 + 1) instead\n",
      "  np.random.random_integers(1,13, size=(3,4))\n"
     ]
    },
    {
     "data": {
      "text/plain": [
       "array([[ 9,  5, 10,  9],\n",
       "       [ 1,  2, 12,  3],\n",
       "       [ 5,  6, 10,  7]])"
      ]
     },
     "execution_count": 57,
     "metadata": {},
     "output_type": "execute_result"
    }
   ],
   "source": [
    "np.random.random_integers(1,13, size=(3,4))"
   ]
  },
  {
   "cell_type": "code",
   "execution_count": 58,
   "id": "fc51903f-2d01-4b94-a7db-911639932e57",
   "metadata": {},
   "outputs": [
    {
     "data": {
      "text/plain": [
       "array([[8, 8, 3, 7, 9, 9],\n",
       "       [5, 6, 4, 5, 6, 4],\n",
       "       [2, 2, 5, 9, 7, 5],\n",
       "       [1, 1, 6, 7, 6, 4]])"
      ]
     },
     "execution_count": 58,
     "metadata": {},
     "output_type": "execute_result"
    }
   ],
   "source": [
    "arr = np.random.randint(1,10, size=(24,)).reshape(4,6)\n",
    "arr"
   ]
  },
  {
   "cell_type": "code",
   "execution_count": 59,
   "id": "91172ce7-2918-47ce-925e-a07cf7ef5f59",
   "metadata": {},
   "outputs": [
    {
     "name": "stdout",
     "output_type": "stream",
     "text": [
      "Shape:  (4, 6)\n",
      "Dimention:  2\n",
      "Size: 24\n",
      "Data type: int32\n"
     ]
    }
   ],
   "source": [
    "print(\"Shape: \", arr.shape)\n",
    "print(\"Dimention: \", arr.ndim)\n",
    "print(\"Size:\", arr.size)\n",
    "print(\"Data type:\", arr.dtype)"
   ]
  },
  {
   "cell_type": "code",
   "execution_count": 62,
   "id": "4f76202a-b658-4574-9516-1fc02387954b",
   "metadata": {},
   "outputs": [
    {
     "data": {
      "text/plain": [
       "matrix([[7, 7, 2, 3],\n",
       "        [6, 7, 1, 5],\n",
       "        [1, 7, 2, 3]])"
      ]
     },
     "execution_count": 62,
     "metadata": {},
     "output_type": "execute_result"
    }
   ],
   "source": [
    "# Creating Matrix:\n",
    "\n",
    "arr = np.random.randint(1,8, size=(12,)).reshape(3,4)\n",
    "mat = np.matrix(arr)\n",
    "mat"
   ]
  },
  {
   "cell_type": "code",
   "execution_count": 64,
   "id": "58e7299a-dc57-46e5-80b5-cdbe699b2f26",
   "metadata": {},
   "outputs": [
    {
     "name": "stdout",
     "output_type": "stream",
     "text": [
      "Type: <class 'numpy.matrix'>\n",
      "Shape:  (3, 4)\n",
      "Dimention:  2\n",
      "Size: 12\n",
      "Data type: int32\n"
     ]
    }
   ],
   "source": [
    "print(\"Type:\", type(mat))\n",
    "print(\"Shape: \", mat.shape)\n",
    "print(\"Dimention: \", mat.ndim)\n",
    "print(\"Size:\", mat.size)\n",
    "print(\"Data type:\", mat.dtype)"
   ]
  },
  {
   "cell_type": "code",
   "execution_count": 66,
   "id": "e90cf445-a080-4591-978e-3a85d6abd769",
   "metadata": {},
   "outputs": [
    {
     "data": {
      "text/plain": [
       "array([ 1.        ,  1.18367347,  1.36734694,  1.55102041,  1.73469388,\n",
       "        1.91836735,  2.10204082,  2.28571429,  2.46938776,  2.65306122,\n",
       "        2.83673469,  3.02040816,  3.20408163,  3.3877551 ,  3.57142857,\n",
       "        3.75510204,  3.93877551,  4.12244898,  4.30612245,  4.48979592,\n",
       "        4.67346939,  4.85714286,  5.04081633,  5.2244898 ,  5.40816327,\n",
       "        5.59183673,  5.7755102 ,  5.95918367,  6.14285714,  6.32653061,\n",
       "        6.51020408,  6.69387755,  6.87755102,  7.06122449,  7.24489796,\n",
       "        7.42857143,  7.6122449 ,  7.79591837,  7.97959184,  8.16326531,\n",
       "        8.34693878,  8.53061224,  8.71428571,  8.89795918,  9.08163265,\n",
       "        9.26530612,  9.44897959,  9.63265306,  9.81632653, 10.        ])"
      ]
     },
     "execution_count": 66,
     "metadata": {},
     "output_type": "execute_result"
    }
   ],
   "source": [
    "# Linespace:\n",
    "\n",
    "np.linspace(1,10)"
   ]
  },
  {
   "cell_type": "code",
   "execution_count": 67,
   "id": "a2369614-8ac6-421f-b0de-08d6478d09b9",
   "metadata": {},
   "outputs": [
    {
     "data": {
      "text/plain": [
       "array([ 1.,  2.,  3.,  4.,  5.,  6.,  7.,  8.,  9., 10.])"
      ]
     },
     "execution_count": 67,
     "metadata": {},
     "output_type": "execute_result"
    }
   ],
   "source": [
    "np.linspace(1,10, 10)"
   ]
  },
  {
   "cell_type": "code",
   "execution_count": 69,
   "id": "f136968e-ae7e-456e-8781-e60919a18cfa",
   "metadata": {},
   "outputs": [
    {
     "data": {
      "text/plain": [
       "array([[ 1. ,  2.8],\n",
       "       [ 4.6,  6.4],\n",
       "       [ 8.2, 10. ]])"
      ]
     },
     "execution_count": 69,
     "metadata": {},
     "output_type": "execute_result"
    }
   ],
   "source": [
    "np.linspace(1,10, 6).reshape(3,2)"
   ]
  },
  {
   "cell_type": "code",
   "execution_count": 70,
   "id": "006187fb-bd9f-4481-b46a-6945fcbe57c3",
   "metadata": {},
   "outputs": [
    {
     "data": {
      "text/plain": [
       "array([[1., 1., 1., 1.],\n",
       "       [1., 1., 1., 1.],\n",
       "       [1., 1., 1., 1.]])"
      ]
     },
     "execution_count": 70,
     "metadata": {},
     "output_type": "execute_result"
    }
   ],
   "source": [
    "# Ones:\n",
    "\n",
    "np.ones(shape=(3,4))"
   ]
  },
  {
   "cell_type": "code",
   "execution_count": 71,
   "id": "802b3a1d-c1b7-48bb-933f-9a78e85d84f0",
   "metadata": {},
   "outputs": [
    {
     "data": {
      "text/plain": [
       "array([[0., 0., 0., 0.],\n",
       "       [0., 0., 0., 0.],\n",
       "       [0., 0., 0., 0.]])"
      ]
     },
     "execution_count": 71,
     "metadata": {},
     "output_type": "execute_result"
    }
   ],
   "source": [
    "# Zeros:\n",
    "\n",
    "np.zeros(shape=(3,4))"
   ]
  },
  {
   "cell_type": "code",
   "execution_count": 72,
   "id": "7c83e975-b566-4946-b0e0-0f54407c47fe",
   "metadata": {},
   "outputs": [
    {
     "data": {
      "text/plain": [
       "array([[1., 0., 0., 0.],\n",
       "       [0., 1., 0., 0.],\n",
       "       [0., 0., 1., 0.],\n",
       "       [0., 0., 0., 1.]])"
      ]
     },
     "execution_count": 72,
     "metadata": {},
     "output_type": "execute_result"
    }
   ],
   "source": [
    "# Creating Diagonal Element:\n",
    "\n",
    "np.eye(4)"
   ]
  },
  {
   "cell_type": "code",
   "execution_count": 73,
   "id": "7853e301-fa6c-49a4-90f1-6af69e0b8442",
   "metadata": {},
   "outputs": [
    {
     "data": {
      "text/plain": [
       "array([[ 1,  2,  3,  4],\n",
       "       [ 5,  6,  7,  8],\n",
       "       [ 9, 10, 11, 12]])"
      ]
     },
     "execution_count": 73,
     "metadata": {},
     "output_type": "execute_result"
    }
   ],
   "source": [
    "# Extracting Diagonal Elements:\n",
    "\n",
    "arr = np.arange(1,13).reshape(3,4)\n",
    "arr"
   ]
  },
  {
   "cell_type": "code",
   "execution_count": 77,
   "id": "bb526048-dfc2-473a-9753-b7e3a1dcd217",
   "metadata": {},
   "outputs": [
    {
     "name": "stdout",
     "output_type": "stream",
     "text": [
      "k=0  : [ 1  6 11]\n",
      "k=1  : [ 2  7 12]\n",
      "k=2  : [3 8]\n",
      "k=-1 : [ 5 10]\n",
      "k=-2 : [9]\n"
     ]
    }
   ],
   "source": [
    "print(\"k=0  :\", np.diag(arr, k=0))\n",
    "print(\"k=1  :\", np.diag(arr, k=1))\n",
    "print(\"k=2  :\", np.diag(arr, k=2))\n",
    "print(\"k=-1 :\", np.diag(arr, k=-1))\n",
    "print(\"k=-2 :\", np.diag(arr, k=-2))"
   ]
  },
  {
   "cell_type": "code",
   "execution_count": 78,
   "id": "7a59ea8f-4cae-4ed3-8ab4-1c4bdc4bff34",
   "metadata": {},
   "outputs": [
    {
     "data": {
      "text/plain": [
       "array([[1, 0, 0, 0],\n",
       "       [0, 2, 0, 0],\n",
       "       [0, 0, 3, 0],\n",
       "       [0, 0, 0, 4]])"
      ]
     },
     "execution_count": 78,
     "metadata": {},
     "output_type": "execute_result"
    }
   ],
   "source": [
    "# create a array where diagonal elemet is [1,2,3,4]\n",
    "\n",
    "np.diagflat([[1,2], [3,4]])"
   ]
  },
  {
   "cell_type": "code",
   "execution_count": 79,
   "id": "6d8b772e-41aa-45b0-899f-51d0b72f8f07",
   "metadata": {},
   "outputs": [
    {
     "data": {
      "text/plain": [
       "array([[1., 0., 0., 0.],\n",
       "       [1., 1., 0., 0.],\n",
       "       [1., 1., 1., 0.],\n",
       "       [1., 1., 1., 1.]])"
      ]
     },
     "execution_count": 79,
     "metadata": {},
     "output_type": "execute_result"
    }
   ],
   "source": [
    "# Create a Triangle array:\n",
    "\n",
    "np.tri(4,4)"
   ]
  },
  {
   "cell_type": "code",
   "execution_count": 80,
   "id": "efee1b5f-d374-4319-9c1a-83820084a978",
   "metadata": {},
   "outputs": [
    {
     "data": {
      "text/plain": [
       "array([[1., 1., 0., 0.],\n",
       "       [1., 1., 1., 0.],\n",
       "       [1., 1., 1., 1.],\n",
       "       [1., 1., 1., 1.]])"
      ]
     },
     "execution_count": 80,
     "metadata": {},
     "output_type": "execute_result"
    }
   ],
   "source": [
    "np.tri(4, 4, k=1)"
   ]
  },
  {
   "cell_type": "code",
   "execution_count": 85,
   "id": "a531b566-2a56-4d8b-8a84-daa7b0533154",
   "metadata": {},
   "outputs": [
    {
     "name": "stdout",
     "output_type": "stream",
     "text": [
      "Original Array: \n",
      " [[ 1  2  3  4]\n",
      " [ 5  6  7  8]\n",
      " [ 9 10 11 12]] \n",
      "\n",
      "Lower Triangle: \n",
      " [[ 1  0  0  0]\n",
      " [ 5  6  0  0]\n",
      " [ 9 10 11  0]] \n",
      "\n",
      "Upper Triangle: \n",
      " [[ 1  2  3  4]\n",
      " [ 0  6  7  8]\n",
      " [ 0  0 11 12]]\n"
     ]
    }
   ],
   "source": [
    "# Uppen Triangle & Lower Triangle:\n",
    "\n",
    "arr = np.arange(1,13).reshape(3,4)\n",
    "l_ = np.tril(arr)\n",
    "u_ = np.triu(arr)\n",
    "\n",
    "print(\"Original Array: \\n\", arr, '\\n')\n",
    "print(\"Lower Triangle: \\n\", l_, '\\n')\n",
    "print(\"Upper Triangle: \\n\", u_)"
   ]
  },
  {
   "cell_type": "code",
   "execution_count": 91,
   "id": "71daa1ca-2ee2-43a8-8f23-f296e0b1d9a7",
   "metadata": {},
   "outputs": [
    {
     "data": {
      "text/plain": [
       "matrix([[ 1,  1,  1,  2],\n",
       "        [ 2,  3,  3,  4],\n",
       "        [ 4,  5,  5,  6],\n",
       "        [ 6,  7,  7,  8],\n",
       "        [ 8,  9,  9, 10],\n",
       "        [10, 11, 11, 12]])"
      ]
     },
     "execution_count": 91,
     "metadata": {},
     "output_type": "execute_result"
    }
   ],
   "source": [
    "# Matrix:\n",
    "\n",
    "mat = np.matrix(np.linspace(1,12,24, dtype=int).reshape(6,4))\n",
    "mat"
   ]
  },
  {
   "cell_type": "code",
   "execution_count": 92,
   "id": "ae83bd14-a5e7-46e5-b406-3cf1dc6b39d5",
   "metadata": {},
   "outputs": [
    {
     "data": {
      "text/plain": [
       "matrix([[False, False, False, False],\n",
       "        [False, False, False, False],\n",
       "        [False,  True,  True,  True],\n",
       "        [ True,  True,  True,  True],\n",
       "        [ True,  True,  True,  True],\n",
       "        [ True,  True,  True,  True]])"
      ]
     },
     "execution_count": 92,
     "metadata": {},
     "output_type": "execute_result"
    }
   ],
   "source": [
    "mat >= 5"
   ]
  },
  {
   "cell_type": "code",
   "execution_count": 94,
   "id": "059849c9-f814-4944-8cd8-ce06072e07c8",
   "metadata": {},
   "outputs": [
    {
     "data": {
      "text/plain": [
       "matrix([[ 6,  6,  7,  7,  8,  8,  9,  9, 10, 10, 11, 11, 12]])"
      ]
     },
     "execution_count": 94,
     "metadata": {},
     "output_type": "execute_result"
    }
   ],
   "source": [
    "mat[mat > 5]"
   ]
  },
  {
   "cell_type": "code",
   "execution_count": 95,
   "id": "120ceaec-241b-4d88-891b-93fb03ea1aa7",
   "metadata": {},
   "outputs": [
    {
     "name": "stdout",
     "output_type": "stream",
     "text": [
      "max:  12\n",
      "min:  1\n"
     ]
    }
   ],
   "source": [
    "# Get Maximum & Minimum Value:\n",
    "\n",
    "max_ = mat.max()\n",
    "min_ = mat.min()\n",
    "\n",
    "print(\"max: \", max_)\n",
    "print(\"min: \", min_)"
   ]
  },
  {
   "cell_type": "code",
   "execution_count": 98,
   "id": "902c3b56-f20d-4443-9ad5-e9799bea71e7",
   "metadata": {},
   "outputs": [
    {
     "name": "stdout",
     "output_type": "stream",
     "text": [
      "[[5 5 5 5]] \n",
      "\n",
      "[[3]\n",
      " [3]\n",
      " [3]\n",
      " [3]\n",
      " [3]\n",
      " [3]]\n"
     ]
    }
   ],
   "source": [
    "# argmax(): The numpy.argmax() function returns indices of the max element of the array in a particular axis.\n",
    "\n",
    "print(mat.argmax(axis=0), '\\n')\n",
    "print(mat.argmax(axis=1))"
   ]
  },
  {
   "cell_type": "code",
   "execution_count": 101,
   "id": "77f90cce-98ea-429e-92c5-9aeef73ddacc",
   "metadata": {},
   "outputs": [
    {
     "data": {
      "text/plain": [
       "array([[12., 12., 12., 12.],\n",
       "       [12., 12., 12., 12.],\n",
       "       [12., 12., 12., 12.]])"
      ]
     },
     "execution_count": 101,
     "metadata": {},
     "output_type": "execute_result"
    }
   ],
   "source": [
    "# Broadcasting : (elements by element operation is called broadcasting)\n",
    "\n",
    "\n",
    "ones = np.ones(shape=(3,4))\n",
    "zeros = np.zeros(shape=(3,4))\n",
    "\n",
    "ones + zeros + 11"
   ]
  },
  {
   "cell_type": "code",
   "execution_count": 102,
   "id": "7ed55f72-949c-40b8-b17a-5733afbc848d",
   "metadata": {},
   "outputs": [],
   "source": [
    "# Array Multiplications:\n",
    "\n",
    "\n",
    "ar1 = np.array([\n",
    "    [1,2,3],\n",
    "    [4,5,6],\n",
    "    [7,8,9]\n",
    "])\n",
    "\n",
    "ar2 = np.array([\n",
    "    [1,2,3],\n",
    "    [1,1,1],\n",
    "    [2,3,1]\n",
    "])\n",
    "\n",
    "ar3 = np.zeros(shape=(3,3))\n",
    "ar4 = np.ones(shape=(3,3))"
   ]
  },
  {
   "cell_type": "code",
   "execution_count": 103,
   "id": "fd8018a6-a90f-4d71-a18a-a515c563647c",
   "metadata": {},
   "outputs": [
    {
     "data": {
      "text/plain": [
       "array([[ 1,  4,  9],\n",
       "       [ 4,  5,  6],\n",
       "       [14, 24,  9]])"
      ]
     },
     "execution_count": 103,
     "metadata": {},
     "output_type": "execute_result"
    }
   ],
   "source": [
    "ar1 * ar2"
   ]
  },
  {
   "cell_type": "code",
   "execution_count": 104,
   "id": "905553b7-c0a7-467f-9cb2-b580089cba80",
   "metadata": {},
   "outputs": [
    {
     "data": {
      "text/plain": [
       "array([[ 9, 13,  8],\n",
       "       [21, 31, 23],\n",
       "       [33, 49, 38]])"
      ]
     },
     "execution_count": 104,
     "metadata": {},
     "output_type": "execute_result"
    }
   ],
   "source": [
    "ar1 @ ar2 # it's array multiplications"
   ]
  },
  {
   "cell_type": "code",
   "execution_count": 105,
   "id": "aab94b5f-9fdb-4dad-809a-18a2d06f571b",
   "metadata": {},
   "outputs": [
    {
     "data": {
      "text/plain": [
       "array([[ 3.,  5.,  7.],\n",
       "       [ 6.,  7.,  8.],\n",
       "       [10., 12., 11.]])"
      ]
     },
     "execution_count": 105,
     "metadata": {},
     "output_type": "execute_result"
    }
   ],
   "source": [
    "ar1 + ar2 + ar3 + ar4"
   ]
  },
  {
   "cell_type": "code",
   "execution_count": 110,
   "id": "686184db-c309-41c7-b8bc-a83cab451170",
   "metadata": {},
   "outputs": [
    {
     "name": "stdout",
     "output_type": "stream",
     "text": [
      "Original Array: \n",
      " [[ 5  2  7  5]\n",
      " [10  5 10  1]] \n",
      "\n",
      "Array Transpose: \n",
      " [[ 5 10]\n",
      " [ 2  5]\n",
      " [ 7 10]\n",
      " [ 5  1]]\n"
     ]
    }
   ],
   "source": [
    "# Array Transpose:\n",
    "\n",
    "arr = np.random.randint(1,12, size=(2,4))\n",
    "\n",
    "print(\"Original Array: \\n\", arr, '\\n')\n",
    "print(\"Array Transpose: \\n\", arr.T)"
   ]
  },
  {
   "cell_type": "code",
   "execution_count": 111,
   "id": "39ac1d99-11b1-4fc8-8490-c43536508727",
   "metadata": {},
   "outputs": [
    {
     "data": {
      "text/plain": [
       "array([[0., 0., 0.],\n",
       "       [0., 1., 2.],\n",
       "       [0., 2., 4.]])"
      ]
     },
     "execution_count": 111,
     "metadata": {},
     "output_type": "execute_result"
    }
   ],
   "source": [
    "# Numpy from function:\n",
    "\n",
    "np.fromfunction(lambda i,j: i*j, (3,3))"
   ]
  },
  {
   "cell_type": "code",
   "execution_count": 113,
   "id": "09729cb7-e5a7-45b7-991d-1f55397e8e22",
   "metadata": {},
   "outputs": [
    {
     "name": "stdout",
     "output_type": "stream",
     "text": [
      "list:  [0, 1, 4, 9, 16]\n",
      "Array:  [ 0  1  4  9 16]\n"
     ]
    }
   ],
   "source": [
    "ls = [x*x for x in range(5)]\n",
    "arr = np.fromiter(ls, dtype=int)\n",
    "\n",
    "print(\"list: \", ls)\n",
    "print(\"Array: \", arr)"
   ]
  },
  {
   "cell_type": "code",
   "execution_count": 114,
   "id": "e8fdee0c-f23b-4a4d-b2ce-d20149f965b6",
   "metadata": {},
   "outputs": [
    {
     "data": {
      "text/plain": [
       "array([1, 2, 3, 4, 5, 6, 7, 8, 9])"
      ]
     },
     "execution_count": 114,
     "metadata": {},
     "output_type": "execute_result"
    }
   ],
   "source": [
    "np.fromstring(\"1 2 3 4 5 6 7 8 9\", sep=\" \", dtype=int)"
   ]
  },
  {
   "cell_type": "code",
   "execution_count": 116,
   "id": "eb663083-7702-489c-a657-07e6aec9e078",
   "metadata": {},
   "outputs": [
    {
     "data": {
      "text/plain": [
       "array([1, 2, 3, 4, 5, 6, 7, 8, 9])"
      ]
     },
     "execution_count": 116,
     "metadata": {},
     "output_type": "execute_result"
    }
   ],
   "source": [
    "ls = list(\"123456789\")\n",
    "np.array([int(i) for i in ls])"
   ]
  },
  {
   "cell_type": "code",
   "execution_count": null,
   "id": "c2cc46ed-bbed-43e3-80ec-6779076b507c",
   "metadata": {},
   "outputs": [],
   "source": []
  }
 ],
 "metadata": {
  "kernelspec": {
   "display_name": "Python 3 (ipykernel)",
   "language": "python",
   "name": "python3"
  },
  "language_info": {
   "codemirror_mode": {
    "name": "ipython",
    "version": 3
   },
   "file_extension": ".py",
   "mimetype": "text/x-python",
   "name": "python",
   "nbconvert_exporter": "python",
   "pygments_lexer": "ipython3",
   "version": "3.9.7"
  }
 },
 "nbformat": 4,
 "nbformat_minor": 5
}
